{
 "cells": [
  {
   "cell_type": "code",
   "execution_count": 18,
   "metadata": {},
   "outputs": [],
   "source": [
    "import requests\n",
    "# https://requestbin.com/ sitesinden url açmak gerek önce\n",
    "url = \"https://entmgzm5gx4q.x.pipedream.net/\""
   ]
  },
  {
   "cell_type": "code",
   "execution_count": 7,
   "metadata": {},
   "outputs": [
    {
     "data": {
      "text/plain": [
       "200"
      ]
     },
     "execution_count": 7,
     "metadata": {},
     "output_type": "execute_result"
    }
   ],
   "source": [
    "r = requests.get(url)\n",
    "r.status_code\n",
    "# https://developer.mozilla.org/tr/docs/Web/HTTP/Status sitesinden status durumlarını öğrenebiliriz"
   ]
  },
  {
   "cell_type": "code",
   "execution_count": 12,
   "metadata": {},
   "outputs": [
    {
     "data": {
      "text/plain": [
       "'https://entmgzm5gx4q.x.pipedream.net/?kategori=elektronik&marka=samsung'"
      ]
     },
     "execution_count": 12,
     "metadata": {},
     "output_type": "execute_result"
    }
   ],
   "source": [
    "r = requests.get(url, params={\"kategori\":\"elektronik\",\"marka\":\"samsung\"})\n",
    "r.url\n",
    "#Siteye quarystring atıyoruz."
   ]
  },
  {
   "cell_type": "code",
   "execution_count": 17,
   "metadata": {},
   "outputs": [],
   "source": [
    "r = requests.post(url, data={\"username\":\"sinan\",\"password\":\"asd123\"})\n",
    "#komutu ile post gönderiyoruz test dolduryomusuz gibi"
   ]
  },
  {
   "cell_type": "code",
   "execution_count": 20,
   "metadata": {},
   "outputs": [],
   "source": [
    "r = requests.post(url,headers={\"User-Agent\":\"DT-Chrome\"})\n",
    "#ile headers kısmındakileri değiştirebiliriz şu an değiştirdiğmiz user-agent kullanıcının\n",
    "# nerden bağlandığına dair bilgi verir"
   ]
  }
 ],
 "metadata": {
  "kernelspec": {
   "display_name": "Python 3",
   "language": "python",
   "name": "python3"
  },
  "language_info": {
   "codemirror_mode": {
    "name": "ipython",
    "version": 3
   },
   "file_extension": ".py",
   "mimetype": "text/x-python",
   "name": "python",
   "nbconvert_exporter": "python",
   "pygments_lexer": "ipython3",
   "version": "3.6.9"
  }
 },
 "nbformat": 4,
 "nbformat_minor": 2
}
