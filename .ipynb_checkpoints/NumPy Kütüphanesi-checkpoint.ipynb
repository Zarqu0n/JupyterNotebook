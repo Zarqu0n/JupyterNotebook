{
 "cells": [
  {
   "cell_type": "code",
   "execution_count": 1,
   "metadata": {},
   "outputs": [],
   "source": [
    "import numpy as np\n",
    "#Numpy kütüphanesi bize matrislerle çalışma imkanı veriyor"
   ]
  },
  {
   "cell_type": "code",
   "execution_count": 4,
   "metadata": {},
   "outputs": [
    {
     "name": "stdout",
     "output_type": "stream",
     "text": [
      "Python listesi :\n",
      "[0, 1, 2, 3, 4, 5, 6, 7, 8, 9]\n",
      "Numpy dizisi :\n",
      "[0 1 2 3 4 5 6 7 8 9]\n"
     ]
    }
   ],
   "source": [
    "python_list = [0, 1, 2, 3, 4, 5, 6, 7, 8, 9]\n",
    "numpy_array1 = np.array([0, 1, 2, 3, 4, 5, 6, 7, 8, 9])\n",
    "numpy_array2 = np.array([[0, 1, 2, 3, 4, 5, 6, 7, 8, 9]])\n",
    "\n",
    "print(\"Python listesi :\")\n",
    "print(python_list)\n",
    "print(\"Numpy dizisi :\")\n",
    "print(numpy_array1)\n"
   ]
  },
  {
   "cell_type": "code",
   "execution_count": 7,
   "metadata": {},
   "outputs": [
    {
     "name": "stdout",
     "output_type": "stream",
     "text": [
      "Birinci dizinin boyutu =1\n",
      "İkinci dizinin boyutu =2\n"
     ]
    }
   ],
   "source": [
    "#.ndim-->matrisin boyutunu veriyor\n",
    "print(\"Birinci dizinin boyutu =\"+str(numpy_array1.ndim))\n",
    "print(\"İkinci dizinin boyutu =\"+str(numpy_array2.ndim))"
   ]
  },
  {
   "cell_type": "code",
   "execution_count": 8,
   "metadata": {},
   "outputs": [
    {
     "name": "stdout",
     "output_type": "stream",
     "text": [
      "Birinci dizinin boyutu =(10,)\n",
      "İkinci dizinin boyutu =(1, 10)\n"
     ]
    }
   ],
   "source": [
    "#.shape-->dizinin satır ve sütün sayısını verir(sırasıyla)\n",
    "print(\"Birinci dizinin boyutu =\"+str(numpy_array1.shape))\n",
    "print(\"İkinci dizinin boyutu =\"+str(numpy_array2.shape))"
   ]
  },
  {
   "cell_type": "code",
   "execution_count": 12,
   "metadata": {},
   "outputs": [
    {
     "name": "stdout",
     "output_type": "stream",
     "text": [
      "-----------Eski matris------------\n",
      "[0 1 2 3 4 5 6 7 8 9]\n",
      "-----------Yeni matris------------\n",
      "[[0 1]\n",
      " [2 3]\n",
      " [4 5]\n",
      " [6 7]\n",
      " [8 9]]\n"
     ]
    }
   ],
   "source": [
    "#.reshape(satır,sütün)-->matrisi yeniden şekillendirme imkanı verir\n",
    "print(\"-----------Eski matris------------\")\n",
    "print(numpy_array1)\n",
    "print(\"-----------Yeni matris------------\")\n",
    "numpy_array3 = numpy_array1.reshape(5,2)\n",
    "print(numpy_array3)"
   ]
  },
  {
   "cell_type": "code",
   "execution_count": 13,
   "metadata": {},
   "outputs": [
    {
     "name": "stdout",
     "output_type": "stream",
     "text": [
      "[0 1 2 3 4 5 6 7 8 9]\n"
     ]
    }
   ],
   "source": [
    "#np.arange(başlangıç,bitiş,adım sayısı)-->başlangıçtan bitişe kadar dizi oluşturur\n",
    "print(np.arange(10))"
   ]
  },
  {
   "cell_type": "code",
   "execution_count": 15,
   "metadata": {},
   "outputs": [
    {
     "name": "stdout",
     "output_type": "stream",
     "text": [
      "Satirlar----------------\n",
      "[[0 1]\n",
      " [2 3]]\n",
      "Sütunlar----------------\n",
      "[[0 1]\n",
      " [2 3]\n",
      " [4 5]\n",
      " [6 7]\n",
      " [8 9]]\n",
      "3\n"
     ]
    }
   ],
   "source": [
    "#Matrisden eleman çekmek\n",
    "print(\"Satirlar----------------\")\n",
    "birinci_satir = numpy_array3[0]\n",
    "birveikinci_satir = numpy_array3[:2]\n",
    "print(birveikinci_satir)\n",
    "print(\"Sütunlar----------------\")\n",
    "birinci_sutun = numpy_array3[:,0]\n",
    "birveikinci_sutun = numpy_array3[:,0:2]\n",
    "print(birveikinci_sutun)\n",
    "eleman = numpy_array3[1,1]#dikkat et eleman sayısı 0'dan başlıyor\n",
    "print(eleman)"
   ]
  },
  {
   "cell_type": "code",
   "execution_count": 16,
   "metadata": {
    "scrolled": false
   },
   "outputs": [
    {
     "data": {
      "text/plain": [
       "'////////////////////////////////////1.Kahve////////////////////////////////////'"
      ]
     },
     "execution_count": 16,
     "metadata": {},
     "output_type": "execute_result"
    }
   ],
   "source": [
    "\"\"\"////////////////////////////////////1.Kahve////////////////////////////////////\"\"\""
   ]
  },
  {
   "cell_type": "code",
   "execution_count": 17,
   "metadata": {},
   "outputs": [
    {
     "name": "stdout",
     "output_type": "stream",
     "text": [
      "[[8 9]\n",
      " [6 7]\n",
      " [4 5]\n",
      " [2 3]\n",
      " [0 1]]\n"
     ]
    }
   ],
   "source": [
    "#Diziyi ters çevirme\n",
    "numpy_array1 = np.array([0, 1, 2, 3, 4, 5, 6, 7, 8, 9])\n",
    "numpy_array2 = numpy_array1.reshape(5,2)\n",
    "print(numpy_array2[::-1])"
   ]
  },
  {
   "cell_type": "code",
   "execution_count": 18,
   "metadata": {},
   "outputs": [
    {
     "name": "stdout",
     "output_type": "stream",
     "text": [
      "Birim Matris-------\n",
      "[[1. 0. 0. 0. 0.]\n",
      " [0. 1. 0. 0. 0.]\n",
      " [0. 0. 1. 0. 0.]\n",
      " [0. 0. 0. 1. 0.]\n",
      " [0. 0. 0. 0. 1.]]\n"
     ]
    }
   ],
   "source": [
    "#np.zeros((satır,sütün))-->0 matrisi oluşturur\n",
    "#np.ones((satır,sütün))-->1 matrisi oluşturur\n",
    "#ones ve zerosda çift paranteze dikkat et\n",
    "#np.eye(satır,sütün)-->birim matrisi oluşturur\n",
    "print(\"Birim Matris-------\")\n",
    "print(np.eye(5,5))"
   ]
  },
  {
   "cell_type": "code",
   "execution_count": 21,
   "metadata": {},
   "outputs": [
    {
     "name": "stdout",
     "output_type": "stream",
     "text": [
      "[[0 1]\n",
      " [2 3]\n",
      " [4 5]\n",
      " [6 7]\n",
      " [8 9]\n",
      " [0 1]\n",
      " [2 3]\n",
      " [4 5]\n",
      " [6 7]\n",
      " [8 9]]\n"
     ]
    }
   ],
   "source": [
    "#Matrisleri birleştirme\n",
    "numpy_array3 = np.concatenate([numpy_array2, numpy_array2], axis =0)#axis satır sayısını belirler\n",
    "#aynı satır ve sütün sayısına sahip olmalı\n",
    "print(numpy_array3)"
   ]
  },
  {
   "cell_type": "code",
   "execution_count": 22,
   "metadata": {},
   "outputs": [
    {
     "name": "stdout",
     "output_type": "stream",
     "text": [
      "------------------Matematiksel İşlemler-------------------------\n",
      "Tüm toplam:\n",
      "45\n",
      "Satır toplamı:\n",
      "[ 1  5  9 13 17]\n",
      "Sütün toplamı:\n",
      "[20 25]\n"
     ]
    }
   ],
   "source": [
    "#--Numpy ile matematiksel işlemler\n",
    "print(\"------------------Matematiksel İşlemler-------------------------\")\n",
    "#.max(),.min()-->matrisin max ve min değerini bulur\n",
    "#.sum(axis)-->matrisin toplamını verir(axis değeri girilmezse tüm toplamı\n",
    "# axis=1 ise satırların toplamı axis =0 ise sütünların toplamı)\n",
    "\n",
    "print(\"Tüm toplam:\")\n",
    "print(numpy_array2.sum())\n",
    "\n",
    "print(\"Satır toplamı:\")\n",
    "print(numpy_array2.sum(axis = 1))\n",
    "\n",
    "print(\"Sütün toplamı:\")\n",
    "print(numpy_array2.sum(axis = 0))"
   ]
  },
  {
   "cell_type": "code",
   "execution_count": 23,
   "metadata": {},
   "outputs": [
    {
     "name": "stdout",
     "output_type": "stream",
     "text": [
      "Ortalama:\n",
      "4.5\n",
      "Ortanca değer:\n",
      "4.5\n",
      "Varyans\n",
      "8.25\n",
      "Standart Sapma\n",
      "2.8722813232690143\n"
     ]
    }
   ],
   "source": [
    "#.mean()-->matrisin ortalamasını verir\n",
    "#np.median(matris)-->matrisin orta değerini bulur\n",
    "#.var()-->matrisin varyansını verir\n",
    "#.std()-->matrisin standart sapmasını verir\n",
    "print(\"Ortalama:\")\n",
    "print(numpy_array2.mean())\n",
    "\n",
    "print(\"Ortanca değer:\")\n",
    "print(np.median(numpy_array2))\n",
    "\n",
    "print(\"Varyans\")\n",
    "print(numpy_array2.var())\n",
    "\n",
    "print(\"Standart Sapma\")\n",
    "print(numpy_array2.std())\n"
   ]
  },
  {
   "cell_type": "code",
   "execution_count": 24,
   "metadata": {},
   "outputs": [
    {
     "name": "stdout",
     "output_type": "stream",
     "text": [
      "[[ 0  2]\n",
      " [ 4  6]\n",
      " [ 8 10]\n",
      " [12 14]\n",
      " [16 18]]\n",
      "[[ 0  2]\n",
      " [ 4  6]\n",
      " [ 8 10]\n",
      " [12 14]\n",
      " [16 18]]\n"
     ]
    }
   ],
   "source": [
    "#Bir matris ile matematiksel bir işlem yaptığında onu matrisin tüm elemanlarına uygular örneğin;\n",
    "print(numpy_array2*2)\n",
    "#Bir matrisler başka bir matris ile işlem yaptığında karşılıklı elemanlar işlem yapılır örneğin;\n",
    "print(numpy_array2+numpy_array2)\n",
    "\n",
    "#np.sin(matris)-->Matrisdeki elemanların sinüs değerini alır\n",
    "#np.cos(matris)-->Matrisdeki elemanların cosinüs değerini alır\n",
    "#np.sqrt(matris)-->matrisdeki elemanların karekökünü alır\n",
    "#np.exp(matris)-->matrisdeki elemanarın exponansiyelini alır\n",
    "#np.log(matris)-->matrisdeki elemanların doğal logaritmasını alır"
   ]
  },
  {
   "cell_type": "code",
   "execution_count": 25,
   "metadata": {},
   "outputs": [
    {
     "name": "stdout",
     "output_type": "stream",
     "text": [
      "--------------Matris Çarpımı----------------\n",
      "[[  5   6   7   8   9]\n",
      " [ 15  20  25  30  35]\n",
      " [ 25  34  43  52  61]\n",
      " [ 35  48  61  74  87]\n",
      " [ 45  62  79  96 113]]\n"
     ]
    }
   ],
   "source": [
    "#---Matrislerin çarpımı\n",
    "#np.dot(1.matris,2.matris)\n",
    "#!!!birinci matrisin sütün sayısı ikinci matrisin satır sayısına eğişt olmalıdır\n",
    "\n",
    "print(\"--------------Matris Çarpımı----------------\")\n",
    "print(np.dot(numpy_array1.reshape(5,2),numpy_array1.reshape(2,5)))"
   ]
  },
  {
   "cell_type": "code",
   "execution_count": 26,
   "metadata": {},
   "outputs": [
    {
     "name": "stdout",
     "output_type": "stream",
     "text": [
      "--------------Matris Transpozesi----------------\n",
      "[[0 2 4 6 8]\n",
      " [1 3 5 7 9]]\n"
     ]
    }
   ],
   "source": [
    "#--Matris Transpozesi\n",
    "#.T-->matrisin transpozesini alır\n",
    "\n",
    "print(\"--------------Matris Transpozesi----------------\")\n",
    "print(numpy_array2.T)"
   ]
  },
  {
   "cell_type": "code",
   "execution_count": 27,
   "metadata": {},
   "outputs": [
    {
     "name": "stdout",
     "output_type": "stream",
     "text": [
      "--------------Matris Koşul----------------\n",
      "[False False False False False  True  True  True  True  True]\n",
      "[0 1 2 3 4]\n"
     ]
    }
   ],
   "source": [
    "#Numpy ile koşul ifadesi\n",
    "##koşul ifadesini bir for gibi tüm elemanlara uyguluyor\n",
    "print(\"--------------Matris Koşul----------------\")\n",
    "boolean_array = numpy_array1 >= 5\n",
    "print(boolean_array)\n",
    "#####ÖNEMLİ###\n",
    "print(numpy_array1[numpy_array1<5])#True değer"
   ]
  },
  {
   "cell_type": "code",
   "execution_count": 28,
   "metadata": {
    "scrolled": false
   },
   "outputs": [
    {
     "data": {
      "text/plain": [
       "'////////////////////////////////////2.Kahve////////////////////////////////////'"
      ]
     },
     "execution_count": 28,
     "metadata": {},
     "output_type": "execute_result"
    }
   ],
   "source": [
    "\"\"\"////////////////////////////////////2.Kahve////////////////////////////////////\"\"\""
   ]
  },
  {
   "cell_type": "code",
   "execution_count": 29,
   "metadata": {},
   "outputs": [
    {
     "name": "stdout",
     "output_type": "stream",
     "text": [
      "<memory at 0x000002A7B8A53708>\n",
      "[[ 0  2  4  6]\n",
      " [ 8 10 12 14]\n",
      " [16 18 20 22]]\n"
     ]
    }
   ],
   "source": [
    "array1 = np.array([[0, 1, 2],[3, 4.0, 5]])\n",
    "print(array1.data)#Matrisdeki verilerin genel veri tiplerini verir\n",
    "array2 = np.arange(0,24,2).reshape(3,4)#3 sütun 4 satırlık 12'ye kadar giden bir matris oluşturur\n",
    "#arange(başlangıç,son,artış)\n",
    "print(array2)"
   ]
  },
  {
   "cell_type": "code",
   "execution_count": 30,
   "metadata": {},
   "outputs": [
    {
     "name": "stdout",
     "output_type": "stream",
     "text": [
      "----------Sabit Sayıdan Matris Oluşturma-------------\n",
      "[[8 8 8 8]\n",
      " [8 8 8 8]\n",
      " [8 8 8 8]]\n"
     ]
    }
   ],
   "source": [
    "#Belli bir sayıdan oluşan dolu bir matris için\n",
    "print(\"----------Sabit Sayıdan Matris Oluşturma-------------\")\n",
    "array3 = np.full((3,4),8)\n",
    "print(array3)"
   ]
  },
  {
   "cell_type": "code",
   "execution_count": 31,
   "metadata": {},
   "outputs": [
    {
     "name": "stdout",
     "output_type": "stream",
     "text": [
      "----------Rastgele Sayıdan Matris Oluşturma-------------\n",
      "[[0.22299473 0.43597701 0.31759406 0.8417483 ]\n",
      " [0.66038814 0.45603192 0.43792764 0.54890658]\n",
      " [0.6988415  0.04237071 0.18715203 0.1496708 ]]\n"
     ]
    }
   ],
   "source": [
    "print(\"----------Rastgele Sayıdan Matris Oluşturma-------------\")\n",
    "array4 = np.random.random((3,4))#0-1 arasında rastgele 3-4'lük bir matris oluşturur\n",
    "print(array4)"
   ]
  },
  {
   "cell_type": "code",
   "execution_count": 32,
   "metadata": {},
   "outputs": [
    {
     "name": "stdout",
     "output_type": "stream",
     "text": [
      "----------Matris Dilimleme-------------\n",
      "[[ 2  4]\n",
      " [10 12]]\n",
      "[[ 0 87  4  6]\n",
      " [ 8 10 12 14]\n",
      " [16 18 20 22]]\n"
     ]
    }
   ],
   "source": [
    "print(\"----------Matris Dilimleme-------------\")\n",
    "array5 = array2[:2,1:3]\n",
    "\"\"\"\n",
    "Matris dilimlerken :2 ifadesi 2 dahil değil anlamındadır ve 0dan başladığınıda unutma\n",
    "aynısı 1:3 içinde geçerlidir 3 dahil değil \n",
    "ve array5 değiştiğinde array2de değişir\n",
    "\"\"\"\n",
    "print(array5)\n",
    "array5[0,0] = 87\n",
    "print(array2)\n"
   ]
  },
  {
   "cell_type": "code",
   "execution_count": 33,
   "metadata": {},
   "outputs": [
    {
     "name": "stdout",
     "output_type": "stream",
     "text": [
      "----------Eleman Değiştirme-------------\n",
      "[[1. 1. 1. 1. 1.]\n",
      " [1. 1. 1. 1. 1.]\n",
      " [1. 1. 1. 1. 1.]\n",
      " [1. 1. 1. 1. 1.]\n",
      " [1. 1. 1. 1. 1.]]\n",
      "----Değişen Matris------\n",
      "[[11.  1.  1.  1.  1.]\n",
      " [ 1. 11.  1.  1.  1.]\n",
      " [ 1.  1. 11.  1.  1.]\n",
      " [ 1.  1.  1. 11.  1.]\n",
      " [ 1.  1.  1.  1. 11.]]\n"
     ]
    }
   ],
   "source": [
    "print(\"----------Eleman Değiştirme-------------\")\n",
    "array6 = np.ones((5,5))\n",
    "print(array6)\n",
    "print(\"----Değişen Matris------\")\n",
    "array6[np.arange(5),np.arange(5)] +=10\n",
    "print(array6)"
   ]
  },
  {
   "cell_type": "code",
   "execution_count": 34,
   "metadata": {},
   "outputs": [
    {
     "name": "stdout",
     "output_type": "stream",
     "text": [
      "----------Matris Birleştirme-------------\n",
      "--Sütun Birleştirme--\n",
      "[[1 2 3]\n",
      " [2 5 1]\n",
      " [4 3 6]\n",
      " [9 0 5]]\n",
      "--Satır Birleştirme--\n",
      "[[1 2 3 4 3 6]\n",
      " [2 5 1 9 0 5]]\n"
     ]
    }
   ],
   "source": [
    "print(\"----------Matris Birleştirme-------------\")\n",
    "array7 = np.array([[1,2,3],[2,5,1]])\n",
    "array8 = np.array([[4,3,6],[9,0,5]])\n",
    "print(\"--Sütun Birleştirme--\")\n",
    "print(np.vstack((array7,array8)))\n",
    "\n",
    "print(\"--Satır Birleştirme--\")\n",
    "print(np.hstack((array7, array8)))\n"
   ]
  }
 ],
 "metadata": {
  "kernelspec": {
   "display_name": "Python 3",
   "language": "python",
   "name": "python3"
  },
  "language_info": {
   "codemirror_mode": {
    "name": "ipython",
    "version": 3
   },
   "file_extension": ".py",
   "mimetype": "text/x-python",
   "name": "python",
   "nbconvert_exporter": "python",
   "pygments_lexer": "ipython3",
   "version": "3.6.9"
  }
 },
 "nbformat": 4,
 "nbformat_minor": 2
}
