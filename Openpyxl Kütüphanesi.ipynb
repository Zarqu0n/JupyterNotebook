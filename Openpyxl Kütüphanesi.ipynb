{
 "cells": [
  {
   "cell_type": "code",
   "execution_count": null,
   "metadata": {},
   "outputs": [],
   "source": [
    "#Bu kütüphane excele veri aktarma yada excelden veri çekmemizi sağlar"
   ]
  },
  {
   "cell_type": "code",
   "execution_count": 9,
   "metadata": {},
   "outputs": [],
   "source": [
    "from  openpyxl import *\n",
    "#İlk olarak çalışma alanı tanımlanır\n",
    "dosya = Workbook()\n",
    "#sonra sayfa oluşturuyoruz\n",
    "sheet1 = dosya.active\n",
    "dosya.save(\"dosya.xlsx\")\n",
    "dosya.close()\n",
    "#dosyamızı oluşturuyoruz"
   ]
  },
  {
   "cell_type": "code",
   "execution_count": null,
   "metadata": {},
   "outputs": [],
   "source": [
    "dosya1 = load_workbook(\"dosya.xlsx\")#Var olan excel dosyasını açar"
   ]
  },
  {
   "cell_type": "code",
   "execution_count": 20,
   "metadata": {},
   "outputs": [
    {
     "name": "stderr",
     "output_type": "stream",
     "text": [
      "C:\\Users\\Nethra\\Anaconda3\\envs\\Anaconda\\lib\\site-packages\\ipykernel_launcher.py:2: DeprecationWarning: Call to deprecated function get_sheet_by_name (Use wb[sheetname]).\n",
      "  \n"
     ]
    },
    {
     "data": {
      "text/plain": [
       "<Worksheet \"calismasayfasi1\">"
      ]
     },
     "execution_count": 20,
     "metadata": {},
     "output_type": "execute_result"
    }
   ],
   "source": [
    "dosya.create_sheet(\"calismasayfasi1\")#ilk olarak sayfanın ismi ikinci parametre olarak ise konumu verilebilir\n",
    "dosya.get_sheet_by_name(\"calismasayfasi1\")#sayfa seçmeye yarar"
   ]
  },
  {
   "cell_type": "code",
   "execution_count": null,
   "metadata": {},
   "outputs": [],
   "source": [
    "remove_sheet(\"calismasayfasi1\")#sayfayı siler"
   ]
  },
  {
   "cell_type": "code",
   "execution_count": 16,
   "metadata": {},
   "outputs": [],
   "source": [
    "sheet1.append((\"yazılım\",\"hanem\",\"\",\"sutun4\"))\n",
    "sheet1.append([\"python\",\"excel\",\"yazısı\"])\n",
    "dosya.save(\"dosya.xlsx\")\n",
    "#satır satır ekleme"
   ]
  },
  {
   "cell_type": "code",
   "execution_count": 19,
   "metadata": {},
   "outputs": [],
   "source": [
    "sheet1[\"B2\"]=\"Matlab\"\n",
    "sheet1[\"B3\"]=\"Python\"\n",
    "dosya.save(\"dosya.xlsx\")\n",
    "#hücre olarak i veri yazdırma"
   ]
  },
  {
   "cell_type": "code",
   "execution_count": null,
   "metadata": {},
   "outputs": [],
   "source": [
    "sheet1.cell(row=3,column=3,value=\"Python Excel\")\n",
    "dosya.save(\"dosya.xlsx\")\n",
    "#kordinatlarla veri yazma"
   ]
  },
  {
   "cell_type": "code",
   "execution_count": 25,
   "metadata": {},
   "outputs": [
    {
     "name": "stdout",
     "output_type": "stream",
     "text": [
      "yazılım\n",
      "hanem\n"
     ]
    }
   ],
   "source": [
    "#Hücre yapısında olduğu gibi aynı şekilde veri okuyabiliriz\n",
    "data1 = sheet1[\"A1\"]\n",
    "data2 = sheet1.cell(5,2)\n",
    "print(data1.value)\n",
    "print(data2.value)"
   ]
  },
  {
   "cell_type": "code",
   "execution_count": 27,
   "metadata": {},
   "outputs": [
    {
     "name": "stdout",
     "output_type": "stream",
     "text": [
      "yazılım hanem \n",
      "python Matlab \n",
      "yazılım Python \n",
      "python excel \n"
     ]
    }
   ],
   "source": [
    "#Satır satır veri okuma\n",
    "for row in sheet1.iter_rows(min_row=1, min_col=1, max_row=4, max_col=2):\n",
    "    for cell in row:\n",
    "        print(cell.value ,end=\" \")\n",
    "    print()"
   ]
  },
  {
   "cell_type": "code",
   "execution_count": 29,
   "metadata": {},
   "outputs": [
    {
     "name": "stdout",
     "output_type": "stream",
     "text": [
      "yazılım\n",
      "hanem\n",
      "python\n",
      "Matlab\n",
      "yazılım\n",
      "Python\n",
      "python\n",
      "excel\n"
     ]
    }
   ],
   "source": [
    "#Sütün sütün veri okuma\n",
    "for row in sheet1.iter_rows(min_row=1, min_col=1, max_row=4, max_col=2):\n",
    "    for cell in row:\n",
    "        print(cell.value)"
   ]
  }
 ],
 "metadata": {
  "kernelspec": {
   "display_name": "Python 3",
   "language": "python",
   "name": "python3"
  },
  "language_info": {
   "codemirror_mode": {
    "name": "ipython",
    "version": 3
   },
   "file_extension": ".py",
   "mimetype": "text/x-python",
   "name": "python",
   "nbconvert_exporter": "python",
   "pygments_lexer": "ipython3",
   "version": "3.6.10"
  }
 },
 "nbformat": 4,
 "nbformat_minor": 4
}
