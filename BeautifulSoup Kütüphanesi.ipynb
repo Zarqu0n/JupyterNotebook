{
 "cells": [
  {
   "cell_type": "code",
   "execution_count": 2,
   "metadata": {},
   "outputs": [],
   "source": [
    "from bs4 import BeautifulSoup as bs\n",
    "import requests"
   ]
  },
  {
   "cell_type": "code",
   "execution_count": 12,
   "metadata": {},
   "outputs": [
    {
     "data": {
      "text/plain": [
       "<title>Tappendorf - Vikipedi</title>"
      ]
     },
     "execution_count": 12,
     "metadata": {},
     "output_type": "execute_result"
    }
   ],
   "source": [
    "source = requests.get('https://tr.wikipedia.org/wiki/Tappendorf')\n",
    "soup = bs(source.content,\"html.parser\")\n",
    "#lxml\n",
    "#html.parser\n",
    "#lxml-xml\n",
    "#html5lib gibi parametrelerde kullanlabilir\n",
    "soup.title#Sayfanın Başlığı"
   ]
  },
  {
   "cell_type": "code",
   "execution_count": 15,
   "metadata": {},
   "outputs": [
    {
     "data": {
      "text/plain": [
       "<h1 class=\"firstHeading\" id=\"firstHeading\">Tappendorf</h1>"
      ]
     },
     "execution_count": 15,
     "metadata": {},
     "output_type": "execute_result"
    }
   ],
   "source": [
    "soup.find(\"h1\")#bulduğu ilk a etiketini getirir "
   ]
  },
  {
   "cell_type": "code",
   "execution_count": 18,
   "metadata": {},
   "outputs": [
    {
     "data": {
      "text/plain": [
       "'Tappendorf'"
      ]
     },
     "execution_count": 18,
     "metadata": {},
     "output_type": "execute_result"
    }
   ],
   "source": [
    "soup.find(\"h1\", attrs = {\"class\":\"firstHeading\"}).text#bulduğu ilk a etiketindeki \"row\" sınıfındaki yazıları getirir"
   ]
  },
  {
   "cell_type": "code",
   "execution_count": 34,
   "metadata": {},
   "outputs": [
    {
     "name": "stdout",
     "output_type": "stream",
     "text": [
      "\n",
      "\t\tÇıkış yapmış editörler için sayfalar daha fazla bilgi\n",
      "\n",
      "Tappendorf Almanya'nın kuzeyinde Schleswig-Holstein eyaletinde, Rendsburg-Eckernförde iline bağlı bölge. 6,69 km² yüzölçüme sahiptir. Nüfusu, 30 Haziran 2006 itibarıyla yaklaşık 333 olarak tespit edilmiştir. Belediye Başkanlığı Georg Türk tarafından yürütülmektedir.\n",
      "\n"
     ]
    }
   ],
   "source": [
    "menu = soup.find_all(\"p\",limit=2)\n",
    "for link in menu:\n",
    "    print(link.text)\n",
    "    #sayfadaki \"div\" etiketindeki ve \"row\" sınıfındaki etiketleri çeker"
   ]
  },
  {
   "cell_type": "code",
   "execution_count": 36,
   "metadata": {},
   "outputs": [
    {
     "data": {
      "text/plain": [
       "[<a href=\"/wiki/Schleswig-Holstein\" title=\"Schleswig-Holstein\">Schleswig-Holstein</a>,\n",
       " <a href=\"/wiki/Schleswig-Holstein\" title=\"Schleswig-Holstein\">Schleswig-Holstein</a>,\n",
       " <a href=\"/wiki/Schleswig-Holstein\" title=\"Schleswig-Holstein\">Schleswig-Holstein</a>]"
      ]
     },
     "execution_count": 36,
     "metadata": {},
     "output_type": "execute_result"
    }
   ],
   "source": [
    "soup.find_all(\"a\",string=\"Schleswig-Holstein\")#div etiketindeki \"Subscribe\" stringine sahip kısmı getirir"
   ]
  },
  {
   "cell_type": "code",
   "execution_count": null,
   "metadata": {},
   "outputs": [],
   "source": []
  }
 ],
 "metadata": {
  "kernelspec": {
   "display_name": "Python 3",
   "language": "python",
   "name": "python3"
  },
  "language_info": {
   "codemirror_mode": {
    "name": "ipython",
    "version": 3
   },
   "file_extension": ".py",
   "mimetype": "text/x-python",
   "name": "python",
   "nbconvert_exporter": "python",
   "pygments_lexer": "ipython3",
   "version": "3.8.5"
  }
 },
 "nbformat": 4,
 "nbformat_minor": 2
}
